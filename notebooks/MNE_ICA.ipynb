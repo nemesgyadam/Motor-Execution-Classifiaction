{
 "cells": [
  {
   "cell_type": "code",
   "execution_count": null,
   "metadata": {},
   "outputs": [],
   "source": [
    "%cd .."
   ]
  },
  {
   "cell_type": "code",
   "execution_count": null,
   "metadata": {},
   "outputs": [],
   "source": [
    "import pandas as pd\n",
    "import numpy as np\n",
    "%matplotlib inline\n",
    "import os\n",
    "import os.path as op\n",
    "import mne\n",
    "import numpy as np\n",
    "import pandas as pd"
   ]
  },
  {
   "cell_type": "code",
   "execution_count": null,
   "metadata": {},
   "outputs": [],
   "source": [
    "%matplotlib qt"
   ]
  },
  {
   "cell_type": "code",
   "execution_count": null,
   "metadata": {},
   "outputs": [],
   "source": [
    "path = 'sessions/Erno/session_08/data.npy'"
   ]
  },
  {
   "cell_type": "code",
   "execution_count": null,
   "metadata": {},
   "outputs": [],
   "source": []
  },
  {
   "cell_type": "code",
   "execution_count": null,
   "metadata": {},
   "outputs": [],
   "source": [
    "def loadData(path,tmin = 5):\n",
    "    \"\"\"\n",
    "    Load the numpy session\n",
    "    and convert it to mne dataset\n",
    "    \"\"\"\n",
    "    test = np.load(path)\n",
    "    EEG = test[2:]\n",
    "    EEG.shape\n",
    "    EEG/=1000*1000 #(µV->V)\n",
    "    test[2:] = EEG\n",
    "\n",
    "\n",
    "    sfreq = 250\n",
    "    event_id = {\"rest\": 1, \"left\": 2, \"right\": 3, \"trial_end\": 10}\n",
    "\n",
    "\n",
    "    ch_names = [\"STIM\", \"Fz\", \"C3\", \"Cz\", \"C4\", \"Pz\", \"PO7\", \"Oz\", \"PO8\"]  # documentation\n",
    "    #ch_names = [\"STIM\", \"Fp1\", \"FC1\", \"FC2\", \"FCz\", \"CPz\", \"CP1\", \"CP2\", \"Pz\"] # API\n",
    "\n",
    "    info = mne.create_info(ch_names=ch_names, sfreq=sfreq)\n",
    "\n",
    "    raw = mne.io.RawArray(test[1:10], info) # Drop timestamp channel\n",
    "\n",
    "    raw.crop(tmin=tmin)\n",
    "    \n",
    "    for ch in info.ch_names:\n",
    "        if ch == 'STIM':\n",
    "            raw.set_channel_types({ch:'stim'})\n",
    "        else:\n",
    "            raw.set_channel_types({ch:'eeg'})\n",
    "    raw.set_montage('standard_1020')\n",
    "    \n",
    "    raw.describe()\n",
    "\n",
    "    return raw\n",
    "\n",
    "def filter(data):\n",
    "    data = data.filter(8, 13, fir_design='firwin')\n",
    "    data = data.notch_filter(50)\n",
    "\n",
    "def create_epochs(data):\n",
    "    event_dict = {'Rest': 1, 'Left': 2, 'Right': 3}#,'EndOfEvent': 10}\n",
    "    mapping =  {1: 'Rest', 2: 'Left', 3: 'Right'}#, 10:'EndOfEvent'}\n",
    "    events = mne.find_events(data,stim_channel='STIM')\n",
    "    annot_from_events = mne.annotations_from_events(\n",
    "        events=events, event_desc=mapping, sfreq=data.info['sfreq'])\n",
    "    data.set_annotations(annot_from_events)\n",
    "    data.drop_channels([\"STIM\"])\n",
    "    return mne.Epochs(data, events, tmin=-0.3, tmax=2.0, event_id=event_dict,\n",
    "                    preload=True)"
   ]
  },
  {
   "cell_type": "code",
   "execution_count": null,
   "metadata": {},
   "outputs": [],
   "source": [
    "EEG_data = loadData(path, 40)\n",
    "EEG_data.describe()\n",
    "\n",
    "filter(EEG_data)\n",
    "\n"
   ]
  },
  {
   "cell_type": "code",
   "execution_count": null,
   "metadata": {},
   "outputs": [],
   "source": [
    "ica = mne.preprocessing.ICA(n_components=8, max_iter='auto', random_state=97)\n",
    "ica.fit(EEG_data)\n",
    "ica.apply(EEG_data)"
   ]
  },
  {
   "cell_type": "code",
   "execution_count": null,
   "metadata": {},
   "outputs": [],
   "source": [
    "ica.plot_components()"
   ]
  },
  {
   "cell_type": "code",
   "execution_count": null,
   "metadata": {},
   "outputs": [],
   "source": [
    "epochs = create_epochs(EEG_data)"
   ]
  },
  {
   "cell_type": "code",
   "execution_count": null,
   "metadata": {},
   "outputs": [],
   "source": [
    "mne.viz.plot_raw(\n",
    "    EEG_data, color=dict(eeg='b'),remove_dc=True, show_options=True, highpass=8.0, lowpass=13.0\n",
    ")\n"
   ]
  },
  {
   "cell_type": "code",
   "execution_count": null,
   "metadata": {},
   "outputs": [],
   "source": [
    "EEG_data.plot_sensors()"
   ]
  },
  {
   "cell_type": "code",
   "execution_count": null,
   "metadata": {},
   "outputs": [],
   "source": []
  },
  {
   "cell_type": "code",
   "execution_count": null,
   "metadata": {},
   "outputs": [],
   "source": [
    "epochs['Left'].compute_psd().plot(picks='eeg')"
   ]
  },
  {
   "cell_type": "code",
   "execution_count": null,
   "metadata": {},
   "outputs": [],
   "source": [
    "epochs['Left'].plot_image()"
   ]
  },
  {
   "cell_type": "code",
   "execution_count": null,
   "metadata": {},
   "outputs": [],
   "source": [
    "epochs['Right'].plot_image()"
   ]
  },
  {
   "cell_type": "code",
   "execution_count": null,
   "metadata": {},
   "outputs": [],
   "source": [
    "right_evoked = epochs['Right'].average()\n",
    "left_evoked = epochs['Left'].average()\n",
    "rest_evoked = epochs['Rest'].average()\n",
    "\n",
    "mne.viz.plot_compare_evokeds(dict(left=left_evoked, right=right_evoked, rest=rest_evoked),\n",
    "                             legend='upper left', show_sensors='upper right')\n"
   ]
  },
  {
   "cell_type": "code",
   "execution_count": null,
   "metadata": {},
   "outputs": [],
   "source": [
    "right_evoked.plot_joint(picks='eeg')\n",
    "right_evoked.plot_topomap(times=[0., 0.08, 0.1, 0.12, 0.2], ch_type='eeg')"
   ]
  },
  {
   "cell_type": "code",
   "execution_count": null,
   "metadata": {},
   "outputs": [],
   "source": [
    "left_evoked.plot_joint(picks='eeg')\n",
    "left_evoked.plot_topomap(times=[0., 0.08, 0.1, 0.12, 0.2], ch_type='eeg')"
   ]
  },
  {
   "cell_type": "code",
   "execution_count": null,
   "metadata": {},
   "outputs": [],
   "source": [
    "rest_evoked.plot_joint(picks='eeg')\n",
    "rest_evoked.plot_topomap(times=[0., 0.08, 0.1, 0.12, 0.2], ch_type='eeg')"
   ]
  },
  {
   "cell_type": "code",
   "execution_count": null,
   "metadata": {},
   "outputs": [],
   "source": []
  }
 ],
 "metadata": {
  "kernelspec": {
   "display_name": "Python 3 (ipykernel)",
   "language": "python",
   "name": "python3"
  },
  "language_info": {
   "codemirror_mode": {
    "name": "ipython",
    "version": 3
   },
   "file_extension": ".py",
   "mimetype": "text/x-python",
   "name": "python",
   "nbconvert_exporter": "python",
   "pygments_lexer": "ipython3",
   "version": "3.11.0"
  },
  "orig_nbformat": 4,
  "vscode": {
   "interpreter": {
    "hash": "9cefe38f745df9e33a66570f2e5a410ba71c4ae3bf929b6ad1b474ac5f904d76"
   }
  }
 },
 "nbformat": 4,
 "nbformat_minor": 2
}
