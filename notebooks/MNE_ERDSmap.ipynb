{
 "cells": [
  {
   "cell_type": "code",
   "execution_count": 1,
   "metadata": {},
   "outputs": [
    {
     "name": "stdout",
     "output_type": "stream",
     "text": [
      "c:\\Code\\Motor-Execution-Classifiaction\n"
     ]
    }
   ],
   "source": [
    "%cd .."
   ]
  },
  {
   "cell_type": "code",
   "execution_count": 1,
   "metadata": {},
   "outputs": [
    {
     "name": "stdout",
     "output_type": "stream",
     "text": [
      "Collecting playsound\n",
      "  Downloading playsound-1.3.0.tar.gz (7.7 kB)\n",
      "  Preparing metadata (setup.py): started\n",
      "  Preparing metadata (setup.py): finished with status 'done'\n",
      "Installing collected packages: playsound\n",
      "  Running setup.py install for playsound: started\n",
      "  Running setup.py install for playsound: finished with status 'done'\n",
      "Successfully installed playsound-1.3.0\n"
     ]
    },
    {
     "name": "stderr",
     "output_type": "stream",
     "text": [
      "  DEPRECATION: playsound is being installed using the legacy 'setup.py install' method, because it does not have a 'pyproject.toml' and the 'wheel' package is not installed. pip 23.1 will enforce this behaviour change. A possible replacement is to enable the '--use-pep517' option. Discussion can be found at https://github.com/pypa/pip/issues/8559\n"
     ]
    }
   ],
   "source": [
    "!pip install playsound"
   ]
  },
  {
   "cell_type": "code",
   "execution_count": 2,
   "metadata": {},
   "outputs": [],
   "source": [
    "import pandas as pd\n",
    "import numpy as np\n",
    "\n",
    "import os\n",
    "\n",
    "import mne\n",
    "import numpy as np\n",
    "import pandas as pd\n",
    "\n",
    "from config.arms_offline import config\n",
    "\n",
    "%matplotlib qt"
   ]
  },
  {
   "cell_type": "code",
   "execution_count": 4,
   "metadata": {},
   "outputs": [],
   "source": [
    "from playsound import playsound"
   ]
  },
  {
   "cell_type": "code",
   "execution_count": 8,
   "metadata": {},
   "outputs": [
    {
     "ename": "",
     "evalue": "",
     "output_type": "error",
     "traceback": [
      "\u001b[1;31mCanceled future for execute_request message before replies were done"
     ]
    },
    {
     "ename": "",
     "evalue": "",
     "output_type": "error",
     "traceback": [
      "\u001b[1;31mThe Kernel crashed while executing code in the the current cell or a previous cell. Please review the code in the cell(s) to identify a possible cause of the failure. Click <a href='https://aka.ms/vscodeJupyterKernelCrash'>here</a> for more info. View Jupyter <a href='command:jupyter.viewOutput'>log</a> for further details."
     ]
    }
   ],
   "source": [
    "!pip uninstall playsound\n"
   ]
  },
  {
   "cell_type": "code",
   "execution_count": null,
   "metadata": {},
   "outputs": [],
   "source": [
    "!pip install playsound==1.2.2"
   ]
  },
  {
   "cell_type": "code",
   "execution_count": 7,
   "metadata": {},
   "outputs": [
    {
     "name": "stderr",
     "output_type": "stream",
     "text": [
      "\n",
      "    Error 275 for command:\n",
      "        open /resources/Voices/fel_male.mp3\n",
      "    A megadott fájl nem található. Győződjön meg az elérési út és a fájlnév helyességéről.\n",
      "\n",
      "    Error 263 for command:\n",
      "        close /resources/Voices/fel_male.mp3\n",
      "    A megadott eszköz nincs megnyitva, illetve az MCI nem ismeri fel.\n",
      "Failed to close the file: /resources/Voices/fel_male.mp3\n"
     ]
    },
    {
     "ename": "PlaysoundException",
     "evalue": "\n    Error 275 for command:\n        open /resources/Voices/fel_male.mp3\n    A megadott fájl nem található. Győződjön meg az elérési út és a fájlnév helyességéről.",
     "output_type": "error",
     "traceback": [
      "\u001b[1;31m---------------------------------------------------------------------------\u001b[0m",
      "\u001b[1;31mPlaysoundException\u001b[0m                        Traceback (most recent call last)",
      "Cell \u001b[1;32mIn [7], line 1\u001b[0m\n\u001b[1;32m----> 1\u001b[0m playsound(\u001b[39m'\u001b[39;49m\u001b[39m/resources/Voices/fel_male.mp3\u001b[39;49m\u001b[39m'\u001b[39;49m)\n\u001b[0;32m      2\u001b[0m \u001b[39mprint\u001b[39m(\u001b[39m'\u001b[39m\u001b[39mplaying sound using  playsound\u001b[39m\u001b[39m'\u001b[39m)\n",
      "File \u001b[1;32m~\\AppData\\Local\\Programs\\Python\\Python311\\Lib\\site-packages\\playsound.py:72\u001b[0m, in \u001b[0;36m_playsoundWin\u001b[1;34m(sound, block)\u001b[0m\n\u001b[0;32m     70\u001b[0m \u001b[39mtry\u001b[39;00m:\n\u001b[0;32m     71\u001b[0m     logger\u001b[39m.\u001b[39mdebug(\u001b[39m'\u001b[39m\u001b[39mStarting\u001b[39m\u001b[39m'\u001b[39m)\n\u001b[1;32m---> 72\u001b[0m     winCommand(\u001b[39mu\u001b[39;49m\u001b[39m'\u001b[39;49m\u001b[39mopen \u001b[39;49m\u001b[39m{}\u001b[39;49;00m\u001b[39m'\u001b[39;49m\u001b[39m.\u001b[39;49mformat(sound))\n\u001b[0;32m     73\u001b[0m     winCommand(\u001b[39mu\u001b[39m\u001b[39m'\u001b[39m\u001b[39mplay \u001b[39m\u001b[39m{}\u001b[39;00m\u001b[39m{}\u001b[39;00m\u001b[39m'\u001b[39m\u001b[39m.\u001b[39mformat(sound, \u001b[39m'\u001b[39m\u001b[39m wait\u001b[39m\u001b[39m'\u001b[39m \u001b[39mif\u001b[39;00m block \u001b[39melse\u001b[39;00m \u001b[39m'\u001b[39m\u001b[39m'\u001b[39m))\n\u001b[0;32m     74\u001b[0m     logger\u001b[39m.\u001b[39mdebug(\u001b[39m'\u001b[39m\u001b[39mReturning\u001b[39m\u001b[39m'\u001b[39m)\n",
      "File \u001b[1;32m~\\AppData\\Local\\Programs\\Python\\Python311\\Lib\\site-packages\\playsound.py:64\u001b[0m, in \u001b[0;36m_playsoundWin.<locals>.winCommand\u001b[1;34m(*command)\u001b[0m\n\u001b[0;32m     60\u001b[0m     exceptionMessage \u001b[39m=\u001b[39m (\u001b[39m'\u001b[39m\u001b[39m\\n\u001b[39;00m\u001b[39m    Error \u001b[39m\u001b[39m'\u001b[39m \u001b[39m+\u001b[39m \u001b[39mstr\u001b[39m(errorCode) \u001b[39m+\u001b[39m \u001b[39m'\u001b[39m\u001b[39m for command:\u001b[39m\u001b[39m'\u001b[39m\n\u001b[0;32m     61\u001b[0m                         \u001b[39m'\u001b[39m\u001b[39m\\n\u001b[39;00m\u001b[39m        \u001b[39m\u001b[39m'\u001b[39m \u001b[39m+\u001b[39m command\u001b[39m.\u001b[39mdecode(\u001b[39m'\u001b[39m\u001b[39mutf-16\u001b[39m\u001b[39m'\u001b[39m) \u001b[39m+\u001b[39m\n\u001b[0;32m     62\u001b[0m                         \u001b[39m'\u001b[39m\u001b[39m\\n\u001b[39;00m\u001b[39m    \u001b[39m\u001b[39m'\u001b[39m \u001b[39m+\u001b[39m errorBuffer\u001b[39m.\u001b[39mraw\u001b[39m.\u001b[39mdecode(\u001b[39m'\u001b[39m\u001b[39mutf-16\u001b[39m\u001b[39m'\u001b[39m)\u001b[39m.\u001b[39mrstrip(\u001b[39m'\u001b[39m\u001b[39m\\0\u001b[39;00m\u001b[39m'\u001b[39m))\n\u001b[0;32m     63\u001b[0m     logger\u001b[39m.\u001b[39merror(exceptionMessage)\n\u001b[1;32m---> 64\u001b[0m     \u001b[39mraise\u001b[39;00m PlaysoundException(exceptionMessage)\n\u001b[0;32m     65\u001b[0m \u001b[39mreturn\u001b[39;00m buf\u001b[39m.\u001b[39mvalue\n",
      "\u001b[1;31mPlaysoundException\u001b[0m: \n    Error 275 for command:\n        open /resources/Voices/fel_male.mp3\n    A megadott fájl nem található. Győződjön meg az elérési út és a fájlnév helyességéről."
     ]
    }
   ],
   "source": [
    "playsound('/resources/Voices/fel_male.mp3')\n",
    "print('playing sound using  playsound')"
   ]
  },
  {
   "cell_type": "code",
   "execution_count": 3,
   "metadata": {},
   "outputs": [],
   "source": [
    "subject = 'Viktor'\n",
    "session = 'session_01'"
   ]
  },
  {
   "cell_type": "code",
   "execution_count": 4,
   "metadata": {},
   "outputs": [],
   "source": [
    "def loadData(subject, session, tmin=5):\n",
    "    \"\"\"\n",
    "    Load the numpy session\n",
    "    and convert it to mne dataset\n",
    "    \"\"\"\n",
    "    path = os.path.join(config.data_path, subject, session, \"data.npy\")\n",
    "    test = np.load(path)\n",
    "    EEG = test[2:]\n",
    "    EEG.shape\n",
    "    EEG /= 1000 * 1000  # (µV->V) #for Unicorn\n",
    "    test[2:] = EEG\n",
    "\n",
    "    sfreq = 250\n",
    "\n",
    "    ch_names = [\n",
    "        \"STIM\",\n",
    "        \"Fz\",\n",
    "        \"C3\",\n",
    "        \"Cz\",\n",
    "        \"C4\",\n",
    "        \"Pz\",\n",
    "        \"PO7\",\n",
    "        \"Oz\",\n",
    "        \"PO8\",\n",
    "    ]  # documentation\n",
    "    #ch_names = [\"STIM\", \"Fp1\", \"FC1\", \"FC2\", \"FCz\", \"CPz\", \"CP1\", \"CP2\", \"Pz\"] # API\n",
    "    #ch_names = [\"STIM\",\"T7\",\"C5\", \"C3\", \"C1\", \"C2\",\"C4\",\"C6\",\"T8\"]\n",
    "\n",
    "    info = mne.create_info(ch_names=ch_names, sfreq=sfreq)\n",
    "\n",
    "    raw = mne.io.RawArray(test[1:10], info)  # Drop timestamp channel\n",
    "\n",
    "    raw.crop(tmin=tmin)\n",
    "\n",
    "    for ch in info.ch_names:\n",
    "        if ch == \"STIM\":\n",
    "            raw.set_channel_types({ch: \"stim\"})\n",
    "        else:\n",
    "            raw.set_channel_types({ch: \"eeg\"})\n",
    "    raw.set_montage(\"standard_1020\")\n",
    "\n",
    "    raw.describe()\n",
    "\n",
    "    return raw\n",
    "\n",
    "\n",
    "def filter(data):\n",
    "    if config.bandpass:\n",
    "        data = data.filter(\n",
    "            config.bandpass_freq[0], config.bandpass_freq[1], fir_design=\"firwin\"\n",
    "        )\n",
    "    if config.notch:\n",
    "        data = data.notch_filter(config.notch_freq)\n",
    "\n",
    "\n",
    "def create_epochs(data):\n",
    "    tmin, tmax = -1, 4\n",
    "    event_dict = {\"Rest\": 1, \"Left\": 2, \"Right\": 3}  # ,'EndOfEvent': 10}\n",
    "    mapping = {1: \"Rest\", 2: \"Left\", 3: \"Right\"}  # , 10:'EndOfEvent'}\n",
    "    events = mne.find_events(data, stim_channel=\"STIM\")\n",
    "    annot_from_events = mne.annotations_from_events(\n",
    "        events=events, event_desc=mapping, sfreq=data.info[\"sfreq\"]\n",
    "    )\n",
    "    data.set_annotations(annot_from_events)\n",
    "    data.drop_channels([\"STIM\"])\n",
    "    return mne.Epochs(\n",
    "        data, events,  event_id=event_dict, tmin = tmin - 0.5, tmax = tmax + 0.5, preload=True\n",
    "    )\n"
   ]
  },
  {
   "cell_type": "code",
   "execution_count": 5,
   "metadata": {},
   "outputs": [
    {
     "name": "stdout",
     "output_type": "stream",
     "text": [
      "Creating RawArray with float64 data, n_channels=9, n_times=55575\n",
      "    Range : 0 ... 55574 =      0.000 ...   222.296 secs\n",
      "Ready.\n"
     ]
    },
    {
     "name": "stderr",
     "output_type": "stream",
     "text": [
      "C:\\Users\\Nemes\\AppData\\Local\\Temp\\ipykernel_11604\\2493959640.py:39: RuntimeWarning: The unit for channel(s) Fz has changed from NA to V.\n",
      "  raw.set_channel_types({ch: \"eeg\"})\n",
      "C:\\Users\\Nemes\\AppData\\Local\\Temp\\ipykernel_11604\\2493959640.py:39: RuntimeWarning: The unit for channel(s) C3 has changed from NA to V.\n",
      "  raw.set_channel_types({ch: \"eeg\"})\n",
      "C:\\Users\\Nemes\\AppData\\Local\\Temp\\ipykernel_11604\\2493959640.py:39: RuntimeWarning: The unit for channel(s) Cz has changed from NA to V.\n",
      "  raw.set_channel_types({ch: \"eeg\"})\n",
      "C:\\Users\\Nemes\\AppData\\Local\\Temp\\ipykernel_11604\\2493959640.py:39: RuntimeWarning: The unit for channel(s) C4 has changed from NA to V.\n",
      "  raw.set_channel_types({ch: \"eeg\"})\n",
      "C:\\Users\\Nemes\\AppData\\Local\\Temp\\ipykernel_11604\\2493959640.py:39: RuntimeWarning: The unit for channel(s) Pz has changed from NA to V.\n",
      "  raw.set_channel_types({ch: \"eeg\"})\n",
      "C:\\Users\\Nemes\\AppData\\Local\\Temp\\ipykernel_11604\\2493959640.py:39: RuntimeWarning: The unit for channel(s) PO7 has changed from NA to V.\n",
      "  raw.set_channel_types({ch: \"eeg\"})\n",
      "C:\\Users\\Nemes\\AppData\\Local\\Temp\\ipykernel_11604\\2493959640.py:39: RuntimeWarning: The unit for channel(s) Oz has changed from NA to V.\n",
      "  raw.set_channel_types({ch: \"eeg\"})\n",
      "C:\\Users\\Nemes\\AppData\\Local\\Temp\\ipykernel_11604\\2493959640.py:39: RuntimeWarning: The unit for channel(s) PO8 has changed from NA to V.\n",
      "  raw.set_channel_types({ch: \"eeg\"})\n"
     ]
    },
    {
     "name": "stdout",
     "output_type": "stream",
     "text": [
      "<RawArray | 9 x 53075 (212.3 s), ~3.7 MB, data loaded>\n",
      "ch  name  type  unit        min         Q1     median         Q3        max\n",
      " 0  STIM  STIM  NA         0.00       0.00       0.00       0.00      10.00\n",
      " 1  Fz    EEG   µV    184507.22  184879.61  185071.64  185327.89  186748.30\n",
      " 2  C3    EEG   µV    174856.00  175403.89  175592.09  175815.56  176406.41\n",
      " 3  Cz    EEG   µV    243629.56  252282.32  264011.12  283858.36  369878.28\n",
      " 4  C4    EEG   µV    250289.66  258677.11  269456.28  286778.44  349281.69\n",
      " 5  Pz    EEG   µV    182548.50  184775.04  186031.16  187919.48  195288.91\n",
      " 6  PO7   EEG   µV    183387.84  184402.66  185406.56  186175.16  186837.25\n",
      " 7  Oz    EEG   µV    180728.97  181584.16  182018.41  182473.80  183998.94\n",
      " 8  PO8   EEG   µV    183675.83  184283.80  184534.77  184766.95  185179.03\n",
      "<RawArray | 9 x 53075 (212.3 s), ~3.7 MB, data loaded>\n",
      "ch  name  type  unit        min         Q1     median         Q3        max\n",
      " 0  STIM  STIM  NA         0.00       0.00       0.00       0.00      10.00\n",
      " 1  Fz    EEG   µV    184507.22  184879.61  185071.64  185327.89  186748.30\n",
      " 2  C3    EEG   µV    174856.00  175403.89  175592.09  175815.56  176406.41\n",
      " 3  Cz    EEG   µV    243629.56  252282.32  264011.12  283858.36  369878.28\n",
      " 4  C4    EEG   µV    250289.66  258677.11  269456.28  286778.44  349281.69\n",
      " 5  Pz    EEG   µV    182548.50  184775.04  186031.16  187919.48  195288.91\n",
      " 6  PO7   EEG   µV    183387.84  184402.66  185406.56  186175.16  186837.25\n",
      " 7  Oz    EEG   µV    180728.97  181584.16  182018.41  182473.80  183998.94\n",
      " 8  PO8   EEG   µV    183675.83  184283.80  184534.77  184766.95  185179.03\n"
     ]
    }
   ],
   "source": [
    "raw_data = loadData(subject, session, config.relax_time)\n",
    "raw_data.describe()"
   ]
  },
  {
   "cell_type": "code",
   "execution_count": 6,
   "metadata": {},
   "outputs": [
    {
     "name": "stdout",
     "output_type": "stream",
     "text": [
      "Filtering raw data in 1 contiguous segment\n",
      "Setting up band-pass filter from 0.1 - 60 Hz\n",
      "\n",
      "FIR filter parameters\n",
      "---------------------\n",
      "Designing a one-pass, zero-phase, non-causal bandpass filter:\n",
      "- Windowed time-domain design (firwin) method\n",
      "- Hamming window with 0.0194 passband ripple and 53 dB stopband attenuation\n",
      "- Lower passband edge: 0.10\n",
      "- Lower transition bandwidth: 0.10 Hz (-6 dB cutoff frequency: 0.05 Hz)\n",
      "- Upper passband edge: 60.00 Hz\n",
      "- Upper transition bandwidth: 15.00 Hz (-6 dB cutoff frequency: 67.50 Hz)\n",
      "- Filter length: 8251 samples (33.004 sec)\n",
      "\n",
      "Setting up band-stop filter from 49 - 51 Hz\n",
      "\n",
      "FIR filter parameters\n",
      "---------------------\n",
      "Designing a one-pass, zero-phase, non-causal bandstop filter:\n",
      "- Windowed time-domain design (firwin) method\n",
      "- Hamming window with 0.0194 passband ripple and 53 dB stopband attenuation\n",
      "- Lower passband edge: 49.38\n",
      "- Lower transition bandwidth: 0.50 Hz (-6 dB cutoff frequency: 49.12 Hz)\n",
      "- Upper passband edge: 50.62 Hz\n",
      "- Upper transition bandwidth: 0.50 Hz (-6 dB cutoff frequency: 50.88 Hz)\n",
      "- Filter length: 1651 samples (6.604 sec)\n",
      "\n",
      "<RawArray | 9 x 53075 (212.3 s), ~3.7 MB, data loaded>\n",
      "ch  name  type  unit        min         Q1     median         Q3        max\n",
      " 0  STIM  STIM  NA         0.00       0.00       0.00       0.00      10.00\n",
      " 1  Fz    EEG   µV      -384.60     -12.92      -1.40      10.65     313.89\n",
      " 2  C3    EEG   µV      -411.84      -9.57       0.85      11.71     279.22\n",
      " 3  Cz    EEG   µV     -2225.58     -67.02     -24.65       3.16     757.68\n",
      " 4  C4    EEG   µV     -1281.70     -42.40     -17.04      -1.48     466.87\n",
      " 5  Pz    EEG   µV     -2196.60     -17.60      -2.81      13.05    1789.23\n",
      " 6  PO7   EEG   µV      -211.00     -14.49       3.72      24.26     137.64\n",
      " 7  Oz    EEG   µV      -704.33     -10.45      -0.41       9.73     668.23\n",
      " 8  PO8   EEG   µV      -525.36      -9.22       1.33      11.59     467.69\n"
     ]
    },
    {
     "name": "stderr",
     "output_type": "stream",
     "text": [
      "[Parallel(n_jobs=1)]: Using backend SequentialBackend with 1 concurrent workers.\n",
      "[Parallel(n_jobs=1)]: Done   1 out of   1 | elapsed:    0.0s remaining:    0.0s\n",
      "[Parallel(n_jobs=1)]: Done   2 out of   2 | elapsed:    0.0s remaining:    0.0s\n",
      "[Parallel(n_jobs=1)]: Done   3 out of   3 | elapsed:    0.0s remaining:    0.0s\n",
      "[Parallel(n_jobs=1)]: Done   4 out of   4 | elapsed:    0.0s remaining:    0.0s\n",
      "[Parallel(n_jobs=1)]: Done   8 out of   8 | elapsed:    0.0s finished\n",
      "[Parallel(n_jobs=1)]: Using backend SequentialBackend with 1 concurrent workers.\n",
      "[Parallel(n_jobs=1)]: Done   1 out of   1 | elapsed:    0.0s remaining:    0.0s\n",
      "[Parallel(n_jobs=1)]: Done   2 out of   2 | elapsed:    0.0s remaining:    0.0s\n",
      "[Parallel(n_jobs=1)]: Done   3 out of   3 | elapsed:    0.0s remaining:    0.0s\n",
      "[Parallel(n_jobs=1)]: Done   4 out of   4 | elapsed:    0.0s remaining:    0.0s\n",
      "[Parallel(n_jobs=1)]: Done   8 out of   8 | elapsed:    0.0s finished\n"
     ]
    }
   ],
   "source": [
    "filtered_data = raw_data.copy()\n",
    "filter(filtered_data)\n",
    "filtered_data.describe()"
   ]
  },
  {
   "cell_type": "code",
   "execution_count": 7,
   "metadata": {},
   "outputs": [],
   "source": [
    "# raw_motor_data = raw_data.copy()\n",
    "# raw_motor_data.drop_channels([\"Fz\", \"Pz\", \"PO7\", \"Oz\", \"PO8\"])\n"
   ]
  },
  {
   "cell_type": "code",
   "execution_count": 8,
   "metadata": {},
   "outputs": [
    {
     "data": {
      "text/html": [
       "<table class=\"table table-hover table-striped table-sm table-responsive small\">\n",
       "    <tr>\n",
       "        <th>Measurement date</th>\n",
       "        \n",
       "        <td>Unknown</td>\n",
       "        \n",
       "    </tr>\n",
       "    <tr>\n",
       "        <th>Experimenter</th>\n",
       "        \n",
       "        <td>Unknown</td>\n",
       "        \n",
       "    </tr>\n",
       "        <th>Participant</th>\n",
       "        \n",
       "        <td>Unknown</td>\n",
       "        \n",
       "    </tr>\n",
       "    <tr>\n",
       "        <th>Digitized points</th>\n",
       "        \n",
       "        <td>11 points</td>\n",
       "        \n",
       "    </tr>\n",
       "    <tr>\n",
       "        <th>Good channels</th>\n",
       "        <td>1 Stimulus, 3 EEG</td>\n",
       "    </tr>\n",
       "    <tr>\n",
       "        <th>Bad channels</th>\n",
       "        <td>None</td>\n",
       "    </tr>\n",
       "    <tr>\n",
       "        <th>EOG channels</th>\n",
       "        <td>Not available</td>\n",
       "    </tr>\n",
       "    <tr>\n",
       "        <th>ECG channels</th>\n",
       "        <td>Not available</td>\n",
       "    \n",
       "    <tr>\n",
       "        <th>Sampling frequency</th>\n",
       "        <td>250.00 Hz</td>\n",
       "    </tr>\n",
       "    \n",
       "    \n",
       "    <tr>\n",
       "        <th>Highpass</th>\n",
       "        <td>0.10 Hz</td>\n",
       "    </tr>\n",
       "    \n",
       "    \n",
       "    <tr>\n",
       "        <th>Lowpass</th>\n",
       "        <td>60.00 Hz</td>\n",
       "    </tr>\n",
       "    \n",
       "    \n",
       "    \n",
       "    <tr>\n",
       "        <th>Duration</th>\n",
       "        <td>00:03:33 (HH:MM:SS)</td>\n",
       "    </tr>\n",
       "</table>"
      ],
      "text/plain": [
       "<RawArray | 4 x 53075 (212.3 s), ~1.6 MB, data loaded>"
      ]
     },
     "execution_count": 8,
     "metadata": {},
     "output_type": "execute_result"
    }
   ],
   "source": [
    "filtered_motor_data = filtered_data.copy()\n",
    "filtered_motor_data.drop_channels([\"Fz\", \"Pz\", \"PO7\", \"Oz\", \"PO8\"])"
   ]
  },
  {
   "cell_type": "code",
   "execution_count": 9,
   "metadata": {},
   "outputs": [],
   "source": [
    "# epochs = create_epochs(raw_data)"
   ]
  },
  {
   "cell_type": "code",
   "execution_count": 10,
   "metadata": {},
   "outputs": [
    {
     "name": "stdout",
     "output_type": "stream",
     "text": [
      "EEG channel type selected for re-referencing\n",
      "Adding average EEG reference projection.\n",
      "1 projection items deactivated\n",
      "Average reference projection was added, but has not been applied yet. Use the apply_proj method to apply it.\n"
     ]
    }
   ],
   "source": [
    "projection = True\n",
    "raw_avg_ref = filtered_motor_data.copy().set_eeg_reference(ref_channels='average', projection = projection)\n"
   ]
  },
  {
   "cell_type": "code",
   "execution_count": 11,
   "metadata": {},
   "outputs": [
    {
     "name": "stdout",
     "output_type": "stream",
     "text": [
      "60 events found\n",
      "Event IDs: [ 1  2  3 10]\n",
      "Not setting metadata\n",
      "30 matching events found\n",
      "Setting baseline interval to [-1.5, 0.0] sec\n",
      "Applying baseline correction (mode: mean)\n",
      "Created an SSP operator (subspace dimension = 1)\n",
      "1 projection items activated\n",
      "Using data from preloaded Raw for 30 events and 1501 original time points ...\n",
      "0 bad epochs dropped\n"
     ]
    },
    {
     "name": "stderr",
     "output_type": "stream",
     "text": [
      "C:\\Users\\Nemes\\AppData\\Local\\Temp\\ipykernel_11604\\2493959640.py:64: RuntimeWarning: Omitted 1 annotation(s) that were outside data range.\n",
      "  data.set_annotations(annot_from_events)\n"
     ]
    }
   ],
   "source": [
    "epochs = create_epochs(raw_avg_ref)\n",
    "\n"
   ]
  },
  {
   "cell_type": "code",
   "execution_count": 12,
   "metadata": {},
   "outputs": [],
   "source": [
    "import numpy as np\n",
    "import matplotlib.pyplot as plt\n",
    "from matplotlib.colors import TwoSlopeNorm\n",
    "import pandas as pd\n",
    "import seaborn as sns\n",
    "import mne\n",
    "from mne.datasets import eegbci\n",
    "from mne.io import concatenate_raws, read_raw_edf\n",
    "from mne.time_frequency import tfr_multitaper\n",
    "from mne.stats import permutation_cluster_1samp_test as pcluster_test"
   ]
  },
  {
   "cell_type": "code",
   "execution_count": 13,
   "metadata": {},
   "outputs": [],
   "source": [
    "from mne.decoding import Scaler\n",
    "scaler = Scaler(mne.create_info(ch_names= [\n",
    "        \"STIM\",\n",
    "        \"Fz\",\n",
    "        \"C3\",\n",
    "        \"Cz\",\n",
    "        \"C4\",\n",
    "        \"Pz\",\n",
    "        \"PO7\",\n",
    "        \"Oz\",\n",
    "        \"PO8\",\n",
    "    ] , sfreq=250))"
   ]
  },
  {
   "cell_type": "code",
   "execution_count": 14,
   "metadata": {},
   "outputs": [],
   "source": [
    "#epochs = scaler.fit_transform(epochs._data, epochs._)"
   ]
  },
  {
   "cell_type": "code",
   "execution_count": 15,
   "metadata": {},
   "outputs": [],
   "source": [
    "freqs = np.arange(2, 36)  # frequencies from 2-35Hz\n",
    "# vmin, vmax = -0.1, 1.5  # set min and max ERDS values in plot\n",
    "# baseline = (0., 0.1)  # baseline interval (in s)\n",
    "vmin, vmax = -1, 1.5  # set min and max ERDS values in plot\n",
    "baseline = (-1, 0)  # baseline interval (in s)\n",
    "cnorm = TwoSlopeNorm(vmin=vmin, vcenter=0, vmax=vmax)  # min, center & max ERDS\n",
    "\n",
    "kwargs = dict(n_permutations=10, step_down_p=0.05, seed=1,\n",
    "              buffer_size=None, out_type='mask')  # for cluster test"
   ]
  },
  {
   "cell_type": "code",
   "execution_count": 16,
   "metadata": {},
   "outputs": [],
   "source": [
    "# tmin = 0.4\n",
    "# tmax = 1.5\n",
    "tmin, tmax = -1, 4\n",
    "# event_ids = dict(Rest = 1, Left = 2, Right = 3)  # map event IDs to tasks\n",
    "event_ids = {\"Rest\": 1, \"Left\": 2, \"Right\": 3} "
   ]
  },
  {
   "cell_type": "code",
   "execution_count": 17,
   "metadata": {},
   "outputs": [
    {
     "name": "stderr",
     "output_type": "stream",
     "text": [
      "[Parallel(n_jobs=1)]: Using backend SequentialBackend with 1 concurrent workers.\n",
      "[Parallel(n_jobs=1)]: Done   1 out of   1 | elapsed:    0.1s remaining:    0.0s\n"
     ]
    },
    {
     "name": "stdout",
     "output_type": "stream",
     "text": [
      "Not setting metadata\n",
      "Applying baseline correction (mode: percent)\n"
     ]
    },
    {
     "name": "stderr",
     "output_type": "stream",
     "text": [
      "[Parallel(n_jobs=1)]: Done   2 out of   2 | elapsed:    0.2s remaining:    0.0s\n",
      "[Parallel(n_jobs=1)]: Done   3 out of   3 | elapsed:    0.3s remaining:    0.0s\n",
      "[Parallel(n_jobs=1)]: Done   3 out of   3 | elapsed:    0.3s finished\n"
     ]
    },
    {
     "name": "stdout",
     "output_type": "stream",
     "text": [
      "Using a threshold of 1.833113\n",
      "stat_fun(H1): min=-6.605579 max=4.236734\n",
      "Running initial clustering …\n",
      "Found 83 clusters\n"
     ]
    },
    {
     "name": "stderr",
     "output_type": "stream",
     "text": [
      "C:\\Users\\Nemes\\AppData\\Local\\Programs\\Python\\Python311\\Lib\\site-packages\\tqdm\\auto.py:22: TqdmWarning: IProgress not found. Please update jupyter and ipywidgets. See https://ipywidgets.readthedocs.io/en/stable/user_install.html\n",
      "  from .autonotebook import tqdm as notebook_tqdm\n",
      "100%|██████████| Permuting : 9/9 [00:00<00:00,   82.29it/s]"
     ]
    },
    {
     "name": "stdout",
     "output_type": "stream",
     "text": [
      "Step-down-in-jumps iteration #1 found 0 clusters to exclude from subsequent iterations\n",
      "Using a threshold of -1.833113\n",
      "stat_fun(H1): min=-6.605579 max=4.236734\n",
      "Running initial clustering …\n",
      "Found 121 clusters\n"
     ]
    },
    {
     "name": "stderr",
     "output_type": "stream",
     "text": [
      "\n",
      "100%|██████████| Permuting : 9/9 [00:00<00:00,  171.61it/s]\n"
     ]
    },
    {
     "name": "stdout",
     "output_type": "stream",
     "text": [
      "Step-down-in-jumps iteration #1 found 0 clusters to exclude from subsequent iterations\n",
      "No baseline correction applied\n",
      "Using a threshold of 1.833113\n",
      "stat_fun(H1): min=-6.780900 max=4.090954\n",
      "Running initial clustering …\n",
      "Found 194 clusters\n"
     ]
    },
    {
     "name": "stderr",
     "output_type": "stream",
     "text": [
      "100%|██████████| Permuting : 9/9 [00:00<00:00,  144.60it/s]\n"
     ]
    },
    {
     "name": "stdout",
     "output_type": "stream",
     "text": [
      "Step-down-in-jumps iteration #1 found 0 clusters to exclude from subsequent iterations\n",
      "Using a threshold of -1.833113\n",
      "stat_fun(H1): min=-6.780900 max=4.090954\n",
      "Running initial clustering …\n",
      "Found 143 clusters\n"
     ]
    },
    {
     "name": "stderr",
     "output_type": "stream",
     "text": [
      "100%|██████████| Permuting : 9/9 [00:00<00:00,  175.26it/s]"
     ]
    },
    {
     "name": "stdout",
     "output_type": "stream",
     "text": [
      "Step-down-in-jumps iteration #1 found 0 clusters to exclude from subsequent iterations\n",
      "No baseline correction applied\n"
     ]
    },
    {
     "name": "stderr",
     "output_type": "stream",
     "text": [
      "\n"
     ]
    },
    {
     "name": "stdout",
     "output_type": "stream",
     "text": [
      "Using a threshold of 1.833113\n",
      "stat_fun(H1): min=-7.535709 max=6.784346\n",
      "Running initial clustering …\n",
      "Found 181 clusters\n"
     ]
    },
    {
     "name": "stderr",
     "output_type": "stream",
     "text": [
      "100%|██████████| Permuting : 9/9 [00:00<00:00,  175.01it/s]"
     ]
    },
    {
     "name": "stdout",
     "output_type": "stream",
     "text": [
      "Step-down-in-jumps iteration #1 found 0 clusters to exclude from subsequent iterations\n",
      "Using a threshold of -1.833113\n",
      "stat_fun(H1): min=-7.535709 max=6.784346\n",
      "Running initial clustering …\n",
      "Found 112 clusters\n"
     ]
    },
    {
     "name": "stderr",
     "output_type": "stream",
     "text": [
      "\n",
      "100%|██████████| Permuting : 9/9 [00:00<00:00,  187.14it/s]"
     ]
    },
    {
     "name": "stdout",
     "output_type": "stream",
     "text": [
      "Step-down-in-jumps iteration #1 found 0 clusters to exclude from subsequent iterations\n",
      "No baseline correction applied\n"
     ]
    },
    {
     "name": "stderr",
     "output_type": "stream",
     "text": [
      "\n"
     ]
    },
    {
     "name": "stdout",
     "output_type": "stream",
     "text": [
      "Using a threshold of 1.833113\n",
      "stat_fun(H1): min=-9.044113 max=4.166836\n",
      "Running initial clustering …\n",
      "Found 109 clusters\n"
     ]
    },
    {
     "name": "stderr",
     "output_type": "stream",
     "text": [
      "100%|██████████| Permuting : 9/9 [00:00<00:00,   98.67it/s]"
     ]
    },
    {
     "name": "stdout",
     "output_type": "stream",
     "text": [
      "Step-down-in-jumps iteration #1 found 0 clusters to exclude from subsequent iterations\n",
      "Using a threshold of -1.833113\n",
      "stat_fun(H1): min=-9.044113 max=4.166836\n",
      "Running initial clustering …\n",
      "Found 144 clusters\n"
     ]
    },
    {
     "name": "stderr",
     "output_type": "stream",
     "text": [
      "\n",
      "100%|██████████| Permuting : 9/9 [00:00<00:00,  190.09it/s]"
     ]
    },
    {
     "name": "stdout",
     "output_type": "stream",
     "text": [
      "Step-down-in-jumps iteration #1 found 0 clusters to exclude from subsequent iterations\n"
     ]
    },
    {
     "name": "stderr",
     "output_type": "stream",
     "text": [
      "\n"
     ]
    },
    {
     "name": "stdout",
     "output_type": "stream",
     "text": [
      "No baseline correction applied\n",
      "Using a threshold of 1.833113\n",
      "stat_fun(H1): min=-18.022094 max=6.199844\n",
      "Running initial clustering …\n",
      "Found 138 clusters\n"
     ]
    },
    {
     "name": "stderr",
     "output_type": "stream",
     "text": [
      "100%|██████████| Permuting : 9/9 [00:00<00:00,  144.64it/s]\n"
     ]
    },
    {
     "name": "stdout",
     "output_type": "stream",
     "text": [
      "Step-down-in-jumps iteration #1 found 0 clusters to exclude from subsequent iterations\n",
      "Using a threshold of -1.833113\n",
      "stat_fun(H1): min=-18.022094 max=6.199844\n",
      "Running initial clustering …\n",
      "Found 185 clusters\n"
     ]
    },
    {
     "name": "stderr",
     "output_type": "stream",
     "text": [
      "100%|██████████| Permuting : 9/9 [00:00<00:00,  124.09it/s]\n"
     ]
    },
    {
     "name": "stdout",
     "output_type": "stream",
     "text": [
      "Step-down-in-jumps iteration #1 found 0 clusters to exclude from subsequent iterations\n",
      "No baseline correction applied\n",
      "Using a threshold of 1.833113\n",
      "stat_fun(H1): min=-7.401920 max=6.733296\n",
      "Running initial clustering …\n",
      "Found 115 clusters\n"
     ]
    },
    {
     "name": "stderr",
     "output_type": "stream",
     "text": [
      "100%|██████████| Permuting : 9/9 [00:00<00:00,  183.86it/s]"
     ]
    },
    {
     "name": "stdout",
     "output_type": "stream",
     "text": [
      "Step-down-in-jumps iteration #1 found 0 clusters to exclude from subsequent iterations\n",
      "Using a threshold of -1.833113\n",
      "stat_fun(H1): min=-7.401920 max=6.733296\n",
      "Running initial clustering …\n",
      "Found 76 clusters\n"
     ]
    },
    {
     "name": "stderr",
     "output_type": "stream",
     "text": [
      "\n",
      "100%|██████████| Permuting : 9/9 [00:00<00:00,  206.74it/s]"
     ]
    },
    {
     "name": "stdout",
     "output_type": "stream",
     "text": [
      "Step-down-in-jumps iteration #1 found 0 clusters to exclude from subsequent iterations\n",
      "No baseline correction applied\n"
     ]
    },
    {
     "name": "stderr",
     "output_type": "stream",
     "text": [
      "\n"
     ]
    },
    {
     "name": "stdout",
     "output_type": "stream",
     "text": [
      "Using a threshold of 1.833113\n",
      "stat_fun(H1): min=-6.681837 max=4.346824\n",
      "Running initial clustering …\n",
      "Found 93 clusters\n"
     ]
    },
    {
     "name": "stderr",
     "output_type": "stream",
     "text": [
      "100%|██████████| Permuting : 9/9 [00:00<00:00,  207.00it/s]\n"
     ]
    },
    {
     "name": "stdout",
     "output_type": "stream",
     "text": [
      "Step-down-in-jumps iteration #1 found 0 clusters to exclude from subsequent iterations\n",
      "Using a threshold of -1.833113\n",
      "stat_fun(H1): min=-6.681837 max=4.346824\n",
      "Running initial clustering …\n",
      "Found 103 clusters\n"
     ]
    },
    {
     "name": "stderr",
     "output_type": "stream",
     "text": [
      "100%|██████████| Permuting : 9/9 [00:00<00:00,   97.58it/s]"
     ]
    },
    {
     "name": "stdout",
     "output_type": "stream",
     "text": [
      "Step-down-in-jumps iteration #1 found 0 clusters to exclude from subsequent iterations\n",
      "No baseline correction applied\n"
     ]
    },
    {
     "name": "stderr",
     "output_type": "stream",
     "text": [
      "\n"
     ]
    },
    {
     "name": "stdout",
     "output_type": "stream",
     "text": [
      "Using a threshold of 1.833113\n",
      "stat_fun(H1): min=-8.115928 max=4.092781\n",
      "Running initial clustering …\n",
      "Found 94 clusters\n"
     ]
    },
    {
     "name": "stderr",
     "output_type": "stream",
     "text": [
      "100%|██████████| Permuting : 9/9 [00:00<00:00,  140.55it/s]"
     ]
    },
    {
     "name": "stdout",
     "output_type": "stream",
     "text": [
      "Step-down-in-jumps iteration #1 found 0 clusters to exclude from subsequent iterations\n"
     ]
    },
    {
     "name": "stderr",
     "output_type": "stream",
     "text": [
      "\n"
     ]
    },
    {
     "name": "stdout",
     "output_type": "stream",
     "text": [
      "Using a threshold of -1.833113\n",
      "stat_fun(H1): min=-8.115928 max=4.092781\n",
      "Running initial clustering …\n",
      "Found 179 clusters\n"
     ]
    },
    {
     "name": "stderr",
     "output_type": "stream",
     "text": [
      "100%|██████████| Permuting : 9/9 [00:00<00:00,  134.98it/s]\n"
     ]
    },
    {
     "name": "stdout",
     "output_type": "stream",
     "text": [
      "Step-down-in-jumps iteration #1 found 0 clusters to exclude from subsequent iterations\n",
      "No baseline correction applied\n",
      "Using a threshold of 1.833113\n",
      "stat_fun(H1): min=-9.652371 max=4.296559\n",
      "Running initial clustering …\n",
      "Found 89 clusters\n"
     ]
    },
    {
     "name": "stderr",
     "output_type": "stream",
     "text": [
      "100%|██████████| Permuting : 9/9 [00:00<00:00,  163.56it/s]"
     ]
    },
    {
     "name": "stdout",
     "output_type": "stream",
     "text": [
      "Step-down-in-jumps iteration #1 found 0 clusters to exclude from subsequent iterations\n",
      "Using a threshold of -1.833113\n",
      "stat_fun(H1): min=-9.652371 max=4.296559\n"
     ]
    },
    {
     "name": "stderr",
     "output_type": "stream",
     "text": [
      "\n"
     ]
    },
    {
     "name": "stdout",
     "output_type": "stream",
     "text": [
      "Running initial clustering …\n",
      "Found 132 clusters\n"
     ]
    },
    {
     "name": "stderr",
     "output_type": "stream",
     "text": [
      "100%|██████████| Permuting : 9/9 [00:00<00:00,  176.19it/s]"
     ]
    },
    {
     "name": "stdout",
     "output_type": "stream",
     "text": [
      "Step-down-in-jumps iteration #1 found 0 clusters to exclude from subsequent iterations\n",
      "No baseline correction applied\n"
     ]
    },
    {
     "name": "stderr",
     "output_type": "stream",
     "text": [
      "\n"
     ]
    }
   ],
   "source": [
    "tfr = tfr_multitaper(epochs, freqs=freqs, n_cycles=freqs, use_fft=True,\n",
    "                     return_itc=False, average=False, decim=2)\n",
    "tfr.crop(tmin, tmax).apply_baseline(baseline, mode=\"percent\")\n",
    "\n",
    "for event in event_ids:\n",
    "    # select desired epochs for visualization\n",
    "    tfr_ev = tfr[event]\n",
    "    fig, axes = plt.subplots(1, 4, figsize=(12, 4),\n",
    "                             gridspec_kw={\"width_ratios\": [10, 10, 10, 1]})\n",
    "    for ch, ax in enumerate(axes[:-1]):  # for each channel\n",
    "        # positive clusters\n",
    "        _, c1, p1, _ = pcluster_test(tfr_ev.data[:, ch], tail=1, **kwargs)\n",
    "        # negative clusters\n",
    "        _, c2, p2, _ = pcluster_test(tfr_ev.data[:, ch], tail=-1, **kwargs)\n",
    "\n",
    "        # note that we keep clusters with p <= 0.05 from the combined clusters\n",
    "        # of two independent tests; in this example, we do not correct for\n",
    "        # these two comparisons\n",
    "        c = np.stack(c1 + c2, axis=2)  # combined clusters\n",
    "        p = np.concatenate((p1, p2))  # combined p-values\n",
    "        mask = c[..., p <= 0.05].any(axis=-1)\n",
    "\n",
    "        # plot TFR (ERDS map with masking)\n",
    "        tfr_ev.average().plot([ch], cmap=\"RdBu\", cnorm=cnorm, axes=ax,\n",
    "                              colorbar=False, show=False, mask=mask,\n",
    "                              mask_style=\"mask\")\n",
    "\n",
    "        ax.set_title(epochs.ch_names[ch], fontsize=10)\n",
    "        ax.axvline(0, linewidth=1, color=\"black\", linestyle=\":\")  # event\n",
    "        if ch != 0:\n",
    "            ax.set_ylabel(\"\")\n",
    "            ax.set_yticklabels(\"\")\n",
    "    fig.colorbar(axes[0].images[-1], cax=axes[-1]).ax.set_yscale(\"linear\")\n",
    "    fig.suptitle(f\"ERDS ({event})\")\n",
    "    plt.show()"
   ]
  },
  {
   "cell_type": "code",
   "execution_count": 18,
   "metadata": {},
   "outputs": [
    {
     "name": "stdout",
     "output_type": "stream",
     "text": [
      "Converting \"condition\" to \"category\"...\n",
      "Converting \"epoch\" to \"category\"...\n",
      "Converting \"channel\" to \"category\"...\n",
      "Converting \"ch_type\" to \"category\"...\n"
     ]
    }
   ],
   "source": [
    "df = tfr.to_data_frame(time_format=None, long_format=True)\n",
    "\n"
   ]
  },
  {
   "cell_type": "code",
   "execution_count": 19,
   "metadata": {},
   "outputs": [],
   "source": [
    "\n",
    "# Map to frequency bands:\n",
    "freq_bounds = {'_': 0,\n",
    "               'delta': 3,\n",
    "               'theta': 7,\n",
    "               'alpha': 13,\n",
    "               'beta': 35,\n",
    "               'gamma': 140}\n",
    "df['band'] = pd.cut(df['freq'], list(freq_bounds.values()),\n",
    "                    labels=list(freq_bounds)[1:])\n",
    "\n",
    "# Filter to retain only relevant frequency bands:\n",
    "freq_bands_of_interest = ['delta', 'theta', 'alpha', 'beta']\n",
    "df = df[df.band.isin(freq_bands_of_interest)]\n",
    "df['band'] = df['band'].cat.remove_unused_categories()\n",
    "\n",
    "# Order channels for plotting:\n",
    "df['channel'] = df['channel'].cat.reorder_categories(('C3', 'Cz', 'C4'),\n",
    "                                                     ordered=True)\n",
    "\n",
    "g = sns.FacetGrid(df, row='band', col='channel', margin_titles=True)\n",
    "g.map(sns.lineplot, 'time', 'value', 'condition', n_boot=10)\n",
    "axline_kw = dict(color='black', linestyle='dashed', linewidth=0.5, alpha=0.5)\n",
    "g.map(plt.axhline, y=0, **axline_kw)\n",
    "g.map(plt.axvline, x=0, **axline_kw)\n",
    "g.set(ylim=(None, 1.5))\n",
    "g.set_axis_labels(\"Time (s)\", \"ERDS (%)\")\n",
    "g.set_titles(col_template=\"{col_name}\", row_template=\"{row_name}\")\n",
    "g.add_legend(ncol=2, loc='lower center')\n",
    "g.fig.subplots_adjust(left=0.1, right=0.9, top=0.9, bottom=0.08)"
   ]
  },
  {
   "cell_type": "code",
   "execution_count": null,
   "metadata": {},
   "outputs": [],
   "source": []
  },
  {
   "cell_type": "code",
   "execution_count": null,
   "metadata": {},
   "outputs": [],
   "source": []
  }
 ],
 "metadata": {
  "kernelspec": {
   "display_name": "Python 3",
   "language": "python",
   "name": "python3"
  },
  "language_info": {
   "codemirror_mode": {
    "name": "ipython",
    "version": 3
   },
   "file_extension": ".py",
   "mimetype": "text/x-python",
   "name": "python",
   "nbconvert_exporter": "python",
   "pygments_lexer": "ipython3",
   "version": "3.9.7 (tags/v3.9.7:1016ef3, Aug 30 2021, 20:19:38) [MSC v.1929 64 bit (AMD64)]"
  },
  "orig_nbformat": 4,
  "vscode": {
   "interpreter": {
    "hash": "3746b5fa086cfbd49ad25e3702783971d3ad2f719a8712aa1ce51d9b0f7153c0"
   }
  }
 },
 "nbformat": 4,
 "nbformat_minor": 2
}
