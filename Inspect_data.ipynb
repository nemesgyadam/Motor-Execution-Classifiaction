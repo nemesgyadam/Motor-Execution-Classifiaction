{
 "cells": [
  {
   "cell_type": "code",
   "execution_count": null,
   "metadata": {},
   "outputs": [],
   "source": [
    "import os\n",
    "import numpy as np\n",
    "import pandas as pd\n",
    "import matplotlib.pyplot as plt\n",
    "\n",
    "from utils.signal_utils import DCFilter, Notch, Bandpass\n",
    "from utils.visualize import showMe\n",
    "%matplotlib inline\n",
    "\n",
    "%load_ext autoreload\n",
    "%autoreload 2\n",
    "\n",
    "subject = 'Erno'\n",
    "session = \"session_08\"\n"
   ]
  },
  {
   "cell_type": "code",
   "execution_count": null,
   "metadata": {},
   "outputs": [],
   "source": [
    "path = os.path.join('data', subject, session)\n",
    "files = os.listdir(path)\n",
    "classes = [f.split('.')[0] for f in files]\n",
    "data = {}\n",
    "for file in files:\n",
    "    clas = file.split('.')[0]\n",
    "    data[clas]=np.load(os.path.join(path, file))\n"
   ]
  },
  {
   "cell_type": "code",
   "execution_count": null,
   "metadata": {},
   "outputs": [],
   "source": [
    "for c in classes:\n",
    "    cdata = data[c]\n",
    "\n",
    "    cdata = Bandpass(cdata, 1, 30)\n",
    "    cdata = Notch(cdata)\n",
    "    cdata = Notch(cdata, 60)\n",
    "\n",
    "    # data = DCFilter(data)\n",
    "    for sample in cdata:\n",
    "        showMe(sample)"
   ]
  },
  {
   "cell_type": "code",
   "execution_count": null,
   "metadata": {},
   "outputs": [],
   "source": [
    "sample = pd.read_csv('bandpass_1-60_notch50_v2.csv')\n",
    "sample.head()\n",
    "sample = sample.values[-500:,0:8]\n",
    "sample.shape\n",
    "showMe(sample.T)"
   ]
  }
 ],
 "metadata": {
  "kernelspec": {
   "display_name": "Python 3.11.0 64-bit",
   "language": "python",
   "name": "python3"
  },
  "language_info": {
   "codemirror_mode": {
    "name": "ipython",
    "version": 3
   },
   "file_extension": ".py",
   "mimetype": "text/x-python",
   "name": "python",
   "nbconvert_exporter": "python",
   "pygments_lexer": "ipython3",
   "version": "3.11.0"
  },
  "orig_nbformat": 4,
  "vscode": {
   "interpreter": {
    "hash": "9cefe38f745df9e33a66570f2e5a410ba71c4ae3bf929b6ad1b474ac5f904d76"
   }
  }
 },
 "nbformat": 4,
 "nbformat_minor": 2
}
