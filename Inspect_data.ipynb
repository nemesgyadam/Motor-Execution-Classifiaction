{
 "cells": [
  {
   "cell_type": "code",
   "execution_count": null,
   "metadata": {},
   "outputs": [],
   "source": [
    "import os\n",
    "import numpy as np\n",
    "import pandas as pd\n",
    "import matplotlib.pyplot as plt\n",
    "\n",
    "from utils.signal import DCFilter, Notch, Bandpass\n",
    "from utils.visualize import showMe\n",
    "%matplotlib inline\n",
    "\n",
    "subject = 'Nemes'\n",
    "session = \"session_02\"\n"
   ]
  },
  {
   "cell_type": "code",
   "execution_count": null,
   "metadata": {},
   "outputs": [],
   "source": [
    "path = os.path.join('train_data', subject, session)\n",
    "files = os.listdir(path)\n",
    "classes = [f.split('.')[0] for f in files]\n",
    "data = {}\n",
    "for file in files:\n",
    "    clas = file.split('.')[0]\n",
    "    data[clas]=np.load(os.path.join(path, file))\n"
   ]
  },
  {
   "cell_type": "code",
   "execution_count": null,
   "metadata": {},
   "outputs": [],
   "source": [
    "for c in classes:\n",
    "    print(c)\n",
    "    for sample in data[c]:\n",
    "        #sample = DCFilter(sample)\n",
    "        print(sample.shape)\n",
    "        sample = Bandpass(sample)\n",
    "        sample = Notch(sample)\n",
    "        showMe(sample)"
   ]
  },
  {
   "cell_type": "code",
   "execution_count": null,
   "metadata": {},
   "outputs": [],
   "source": [
    "sample = pd.read_csv('bandpass_1-60_notch50_v2.csv')\n",
    "sample.head()\n",
    "sample = sample.values[-500:,0:8]\n",
    "sample.shape\n",
    "showMe(sample.T)"
   ]
  }
 ],
 "metadata": {
  "kernelspec": {
   "display_name": "Python 3.10.0 ('tf': venv)",
   "language": "python",
   "name": "python3"
  },
  "language_info": {
   "codemirror_mode": {
    "name": "ipython",
    "version": 3
   },
   "file_extension": ".py",
   "mimetype": "text/x-python",
   "name": "python",
   "nbconvert_exporter": "python",
   "pygments_lexer": "ipython3",
   "version": "3.10.0"
  },
  "orig_nbformat": 4,
  "vscode": {
   "interpreter": {
    "hash": "3c1617ab821ecb6762ca0a3f88dda579fb92900856ffb4a5f0db2e5b1b121e8e"
   }
  }
 },
 "nbformat": 4,
 "nbformat_minor": 2
}
