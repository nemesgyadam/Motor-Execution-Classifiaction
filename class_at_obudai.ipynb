{
 "cells": [
  {
   "cell_type": "code",
   "execution_count": null,
   "metadata": {
    "collapsed": true
   },
   "outputs": [],
   "source": [
    "import numpy as np\n",
    "import matplotlib.pyplot as plt\n",
    "import mne\n",
    "from tqdm import tqdm\n",
    "from moabb.datasets import BNCI2014001\n",
    "from mne.time_frequency import tfr_multitaper, tfr_morlet\n",
    "from matplotlib.colors import TwoSlopeNorm\n",
    "import pandas as pd\n",
    "import seaborn as sns"
   ]
  },
  {
   "cell_type": "markdown",
   "source": [
    "### Load BCI IV / A dataset\n",
    "Find the dataset description [here](https://lampz.tugraz.at/~bci/database/001-2014/description.pdf) and [here](https://neurotechx.github.io/moabb/generated/moabb.datasets.BNCI2014001.html#moabb.datasets.BNCI2014001)"
   ],
   "metadata": {
    "collapsed": false,
    "pycharm": {
     "name": "#%% md\n"
    }
   }
  },
  {
   "cell_type": "code",
   "source": [
    "ds = BNCI2014001()\n",
    "data = ds.get_data()"
   ],
   "metadata": {
    "collapsed": false,
    "pycharm": {
     "name": "#%%\n"
    }
   },
   "execution_count": null,
   "outputs": []
  },
  {
   "cell_type": "markdown",
   "source": [
    "### Data exploration"
   ],
   "metadata": {
    "collapsed": false,
    "pycharm": {
     "name": "#%% md\n"
    }
   }
  },
  {
   "cell_type": "code",
   "execution_count": null,
   "outputs": [],
   "source": [
    "raw = data[1]['session_T']['run_0']\n",
    "stims, stim_t = raw[raw.ch_names.index('stim')]\n",
    "unique_events = np.unique(stims, return_counts=True)  # 0 == no event"
   ],
   "metadata": {
    "collapsed": false,
    "pycharm": {
     "name": "#%%\n"
    }
   }
  },
  {
   "cell_type": "code",
   "execution_count": null,
   "outputs": [],
   "source": [
    "# create events and epochs; check doc for timing\n",
    "tmin, tmax = .8, 4\n",
    "baseline = tmin, 2\n",
    "events = mne.find_events(raw, 'stim')\n",
    "event_id = dict(left=1, right=2, feet=3, tongue=4)\n",
    "epochs = mne.Epochs(raw, events, event_id, tmin=tmin, tmax=tmax, baseline=baseline, preload=True)"
   ],
   "metadata": {
    "collapsed": false,
    "pycharm": {
     "name": "#%%\n"
    }
   }
  },
  {
   "cell_type": "code",
   "execution_count": null,
   "outputs": [],
   "source": [
    "# plot individual epochs\n",
    "epochs.plot(scalings=.0001, events=events)\n",
    "\n",
    "# within-condition epochs averaging\n",
    "for avg in epochs.average(by_event_type=True):\n",
    "    avg.plot(titles=avg.comment, hline=[0])"
   ],
   "metadata": {
    "collapsed": false,
    "pycharm": {
     "name": "#%%\n"
    }
   }
  },
  {
   "cell_type": "code",
   "execution_count": null,
   "outputs": [],
   "source": [
    "# check power spectral density\n",
    "epochs.plot_psd()"
   ],
   "metadata": {
    "collapsed": false,
    "pycharm": {
     "name": "#%%\n"
    }
   }
  },
  {
   "cell_type": "markdown",
   "source": [
    "### Epoching"
   ],
   "metadata": {
    "collapsed": false,
    "pycharm": {
     "name": "#%% md\n"
    }
   }
  },
  {
   "cell_type": "code",
   "source": [
    "# TODO implement function to: re-reference electrodes, bandpass filter (0.5 - 100Hz) and notch filter (50, 100Hz), then apply baselinin\n",
    "def prep_epoch(raw: mne.io.Raw):\n",
    "    pass\n",
    "    # return epochs"
   ],
   "metadata": {
    "collapsed": false,
    "pycharm": {
     "name": "#%%\n"
    }
   },
   "execution_count": null,
   "outputs": []
  },
  {
   "cell_type": "code",
   "execution_count": null,
   "outputs": [],
   "source": [
    "# combine epochs\n",
    "subjects = range(1, 2)  # TODO use more and more subjects\n",
    "all_epochs = []\n",
    "for subj_i, subj in data.items():\n",
    "    if subj_i not in subjects:\n",
    "        continue\n",
    "    for raw in tqdm(subj['session_T'].values(), desc=str(subj_i)):\n",
    "        epochs = prep_epoch(raw.copy())\n",
    "        all_epochs.append(epochs)\n",
    "\n",
    "all_epochs = mne.concatenate_epochs(all_epochs)"
   ],
   "metadata": {
    "collapsed": false,
    "pycharm": {
     "name": "#%%\n"
    }
   }
  },
  {
   "cell_type": "markdown",
   "source": [
    "### Time-frequency analysis"
   ],
   "metadata": {
    "collapsed": false,
    "pycharm": {
     "name": "#%% md\n"
    }
   }
  },
  {
   "cell_type": "code",
   "execution_count": null,
   "outputs": [],
   "source": [
    "# TODO try both tfr_morlet and tfr_multitaper to generate time-frequency signal\n",
    "#   see differences in the generated spectrograms\n",
    "# TODO your time-freq plot should show alpha and beta frequencies,\n",
    "#   and the C3, Cz and C4 channels only\n",
    "\n",
    "# TODO try different freqs and n_cycles parameters"
   ],
   "metadata": {
    "collapsed": false,
    "pycharm": {
     "name": "#%%\n"
    }
   }
  },
  {
   "cell_type": "markdown",
   "source": [
    "### Alpha ERDS analysis"
   ],
   "metadata": {
    "collapsed": false,
    "pycharm": {
     "name": "#%% md\n"
    }
   }
  },
  {
   "cell_type": "code",
   "execution_count": null,
   "outputs": [],
   "source": [
    "# TODO compute alpha and beta ERDS using the above computed time-freq signals,\n",
    "#   show left and right ERDS on 3 electrodes: C3, Cz, C4"
   ],
   "metadata": {
    "collapsed": false,
    "pycharm": {
     "name": "#%%\n"
    }
   }
  }
 ],
 "metadata": {
  "kernelspec": {
   "display_name": "Python 3",
   "language": "python",
   "name": "python3"
  },
  "language_info": {
   "codemirror_mode": {
    "name": "ipython",
    "version": 2
   },
   "file_extension": ".py",
   "mimetype": "text/x-python",
   "name": "python",
   "nbconvert_exporter": "python",
   "pygments_lexer": "ipython2",
   "version": "2.7.6"
  }
 },
 "nbformat": 4,
 "nbformat_minor": 0
}